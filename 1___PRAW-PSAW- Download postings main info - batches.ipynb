{
 "cells": [
  {
   "cell_type": "code",
   "execution_count": 10,
   "id": "ff7be1c6",
   "metadata": {},
   "outputs": [],
   "source": [
    "import praw  # API de Reddit, praw.\n",
    "import pandas as pd\n",
    "import sys\n",
    "import psaw  # Esto es de pushshift.\n",
    "#import tqdm  # Permite ver cómo va avanzando el progreso de los loops."
   ]
  },
  {
   "cell_type": "code",
   "execution_count": 11,
   "id": "3a3c69de",
   "metadata": {},
   "outputs": [],
   "source": [
    "CLIENT_ID = 'NrpsKpF87ZZ2gGFglOe_7A'\n",
    "SECRET_KEY = 'CxFhZ99PR6tPQ19AVtVhAmJry11Beg'\n",
    "USERNAME = 'karel_data'\n",
    "with open('red_pass.txt', 'r') as f:\n",
    "    password_with_newline = f.read()\n",
    "PASSWORD = password_with_newline.rstrip('\\n')\n"
   ]
  },
  {
   "cell_type": "code",
   "execution_count": 12,
   "id": "23e5f427",
   "metadata": {},
   "outputs": [],
   "source": [
    "reddit = praw.Reddit(\n",
    "    client_id=CLIENT_ID,\n",
    "    client_secret=SECRET_KEY,\n",
    "    password=PASSWORD,\n",
    "    user_agent=\"Posting/Comment Extraction (by u/karel_data)\",\n",
    "    username=USERNAME,\n",
    ")"
   ]
  },
  {
   "cell_type": "code",
   "execution_count": 13,
   "id": "85934f1c",
   "metadata": {},
   "outputs": [],
   "source": [
    "psaw_pushshift = psaw.PushshiftAPI(reddit)\n",
    "subreddit_name = reddit.subreddit('trueunpopularopinion')\n",
    "df = []\n",
    "initial_time = 1631377026.0"
   ]
  },
  {
   "cell_type": "code",
   "execution_count": 14,
   "id": "2561d3b3",
   "metadata": {},
   "outputs": [
    {
     "ename": "Exception",
     "evalue": "Unable to connect to pushshift.io. Max retries exceeded.",
     "output_type": "error",
     "traceback": [
      "\u001b[1;31m---------------------------------------------------------------------------\u001b[0m",
      "\u001b[1;31mException\u001b[0m                                 Traceback (most recent call last)",
      "\u001b[1;32m~\\AppData\\Local\\Temp\\ipykernel_21692\\571876767.py\u001b[0m in \u001b[0;36m<module>\u001b[1;34m\u001b[0m\n\u001b[0;32m      1\u001b[0m \u001b[0mpostings\u001b[0m \u001b[1;33m=\u001b[0m \u001b[0mpsaw_pushshift\u001b[0m\u001b[1;33m.\u001b[0m\u001b[0msearch_submissions\u001b[0m\u001b[1;33m(\u001b[0m\u001b[0msubreddit\u001b[0m\u001b[1;33m=\u001b[0m\u001b[0msubreddit_name\u001b[0m\u001b[1;33m,\u001b[0m \u001b[0mlimit\u001b[0m\u001b[1;33m=\u001b[0m\u001b[1;36m1000\u001b[0m\u001b[1;33m,\u001b[0m \u001b[0mbefore\u001b[0m\u001b[1;33m=\u001b[0m\u001b[0minitial_time\u001b[0m\u001b[1;33m)\u001b[0m\u001b[1;33m\u001b[0m\u001b[1;33m\u001b[0m\u001b[0m\n\u001b[0;32m      2\u001b[0m \u001b[1;31m# postings = psaw_pushshift.search_submissions(subreddit=subreddit_name, limit=1000, before=initial_time, max_sleep = 180)\u001b[0m\u001b[1;33m\u001b[0m\u001b[1;33m\u001b[0m\u001b[1;33m\u001b[0m\u001b[0m\n\u001b[1;32m----> 3\u001b[1;33m \u001b[0mdf\u001b[0m \u001b[1;33m=\u001b[0m \u001b[0mpd\u001b[0m\u001b[1;33m.\u001b[0m\u001b[0mDataFrame\u001b[0m\u001b[1;33m(\u001b[0m\u001b[0mpostings\u001b[0m\u001b[1;33m)\u001b[0m\u001b[1;33m\u001b[0m\u001b[1;33m\u001b[0m\u001b[0m\n\u001b[0m",
      "\u001b[1;32m~\\anaconda3\\envs\\rstudio\\lib\\site-packages\\pandas\\core\\frame.py\u001b[0m in \u001b[0;36m__init__\u001b[1;34m(self, data, index, columns, dtype, copy)\u001b[0m\n\u001b[0;32m    682\u001b[0m         \u001b[1;32melif\u001b[0m \u001b[0mis_list_like\u001b[0m\u001b[1;33m(\u001b[0m\u001b[0mdata\u001b[0m\u001b[1;33m)\u001b[0m\u001b[1;33m:\u001b[0m\u001b[1;33m\u001b[0m\u001b[1;33m\u001b[0m\u001b[0m\n\u001b[0;32m    683\u001b[0m             \u001b[1;32mif\u001b[0m \u001b[1;32mnot\u001b[0m \u001b[0misinstance\u001b[0m\u001b[1;33m(\u001b[0m\u001b[0mdata\u001b[0m\u001b[1;33m,\u001b[0m \u001b[1;33m(\u001b[0m\u001b[0mabc\u001b[0m\u001b[1;33m.\u001b[0m\u001b[0mSequence\u001b[0m\u001b[1;33m,\u001b[0m \u001b[0mExtensionArray\u001b[0m\u001b[1;33m)\u001b[0m\u001b[1;33m)\u001b[0m\u001b[1;33m:\u001b[0m\u001b[1;33m\u001b[0m\u001b[1;33m\u001b[0m\u001b[0m\n\u001b[1;32m--> 684\u001b[1;33m                 \u001b[0mdata\u001b[0m \u001b[1;33m=\u001b[0m \u001b[0mlist\u001b[0m\u001b[1;33m(\u001b[0m\u001b[0mdata\u001b[0m\u001b[1;33m)\u001b[0m\u001b[1;33m\u001b[0m\u001b[1;33m\u001b[0m\u001b[0m\n\u001b[0m\u001b[0;32m    685\u001b[0m             \u001b[1;32mif\u001b[0m \u001b[0mlen\u001b[0m\u001b[1;33m(\u001b[0m\u001b[0mdata\u001b[0m\u001b[1;33m)\u001b[0m \u001b[1;33m>\u001b[0m \u001b[1;36m0\u001b[0m\u001b[1;33m:\u001b[0m\u001b[1;33m\u001b[0m\u001b[1;33m\u001b[0m\u001b[0m\n\u001b[0;32m    686\u001b[0m                 \u001b[1;32mif\u001b[0m \u001b[0mis_dataclass\u001b[0m\u001b[1;33m(\u001b[0m\u001b[0mdata\u001b[0m\u001b[1;33m[\u001b[0m\u001b[1;36m0\u001b[0m\u001b[1;33m]\u001b[0m\u001b[1;33m)\u001b[0m\u001b[1;33m:\u001b[0m\u001b[1;33m\u001b[0m\u001b[1;33m\u001b[0m\u001b[0m\n",
      "\u001b[1;32m~\\anaconda3\\envs\\rstudio\\lib\\site-packages\\psaw\\PushshiftAPI.py\u001b[0m in \u001b[0;36m_praw_search\u001b[1;34m(self, **kwargs)\u001b[0m\n\u001b[0;32m    372\u001b[0m             \u001b[0mgen\u001b[0m \u001b[1;33m=\u001b[0m \u001b[1;33m[\u001b[0m\u001b[0mself\u001b[0m\u001b[1;33m.\u001b[0m\u001b[0m_get_submission_comment_ids\u001b[0m\u001b[1;33m(\u001b[0m\u001b[1;33m**\u001b[0m\u001b[0mkwargs\u001b[0m\u001b[1;33m)\u001b[0m\u001b[1;33m]\u001b[0m\u001b[1;33m\u001b[0m\u001b[1;33m\u001b[0m\u001b[0m\n\u001b[0;32m    373\u001b[0m \u001b[1;33m\u001b[0m\u001b[0m\n\u001b[1;32m--> 374\u001b[1;33m         \u001b[1;32mfor\u001b[0m \u001b[0mbatch\u001b[0m \u001b[1;32min\u001b[0m \u001b[0mgen\u001b[0m\u001b[1;33m:\u001b[0m\u001b[1;33m\u001b[0m\u001b[1;33m\u001b[0m\u001b[0m\n\u001b[0m\u001b[0;32m    375\u001b[0m             \u001b[1;32mif\u001b[0m \u001b[1;32mnot\u001b[0m \u001b[0mbatch\u001b[0m\u001b[1;33m:\u001b[0m\u001b[1;33m\u001b[0m\u001b[1;33m\u001b[0m\u001b[0m\n\u001b[0;32m    376\u001b[0m                 \u001b[1;32mreturn\u001b[0m\u001b[1;33m\u001b[0m\u001b[1;33m\u001b[0m\u001b[0m\n",
      "\u001b[1;32m~\\anaconda3\\envs\\rstudio\\lib\\site-packages\\psaw\\PushshiftAPI.py\u001b[0m in \u001b[0;36m_search\u001b[1;34m(self, kind, stop_condition, return_batch, dataset, **kwargs)\u001b[0m\n\u001b[0;32m    236\u001b[0m         \u001b[0mendpoint\u001b[0m \u001b[1;33m=\u001b[0m \u001b[1;34m'{dataset}/{kind}/search'\u001b[0m\u001b[1;33m.\u001b[0m\u001b[0mformat\u001b[0m\u001b[1;33m(\u001b[0m\u001b[0mdataset\u001b[0m\u001b[1;33m=\u001b[0m\u001b[0mdataset\u001b[0m\u001b[1;33m,\u001b[0m \u001b[0mkind\u001b[0m\u001b[1;33m=\u001b[0m\u001b[0mkind\u001b[0m\u001b[1;33m)\u001b[0m\u001b[1;33m\u001b[0m\u001b[1;33m\u001b[0m\u001b[0m\n\u001b[0;32m    237\u001b[0m         \u001b[0murl\u001b[0m \u001b[1;33m=\u001b[0m \u001b[0mself\u001b[0m\u001b[1;33m.\u001b[0m\u001b[0mbase_url\u001b[0m\u001b[1;33m.\u001b[0m\u001b[0mformat\u001b[0m\u001b[1;33m(\u001b[0m\u001b[0mendpoint\u001b[0m\u001b[1;33m=\u001b[0m\u001b[0mendpoint\u001b[0m\u001b[1;33m)\u001b[0m\u001b[1;33m\u001b[0m\u001b[1;33m\u001b[0m\u001b[0m\n\u001b[1;32m--> 238\u001b[1;33m         \u001b[1;32mfor\u001b[0m \u001b[0mresponse\u001b[0m \u001b[1;32min\u001b[0m \u001b[0mself\u001b[0m\u001b[1;33m.\u001b[0m\u001b[0m_handle_paging\u001b[0m\u001b[1;33m(\u001b[0m\u001b[0murl\u001b[0m\u001b[1;33m)\u001b[0m\u001b[1;33m:\u001b[0m\u001b[1;33m\u001b[0m\u001b[1;33m\u001b[0m\u001b[0m\n\u001b[0m\u001b[0;32m    239\u001b[0m             \u001b[1;32mif\u001b[0m \u001b[1;34m'aggs'\u001b[0m \u001b[1;32min\u001b[0m \u001b[0mresponse\u001b[0m\u001b[1;33m:\u001b[0m\u001b[1;33m\u001b[0m\u001b[1;33m\u001b[0m\u001b[0m\n\u001b[0;32m    240\u001b[0m                 \u001b[1;32myield\u001b[0m \u001b[0mresponse\u001b[0m\u001b[1;33m[\u001b[0m\u001b[1;34m'aggs'\u001b[0m\u001b[1;33m]\u001b[0m\u001b[1;33m\u001b[0m\u001b[1;33m\u001b[0m\u001b[0m\n",
      "\u001b[1;32m~\\anaconda3\\envs\\rstudio\\lib\\site-packages\\psaw\\PushshiftAPI.py\u001b[0m in \u001b[0;36m_handle_paging\u001b[1;34m(self, url)\u001b[0m\n\u001b[0;32m    213\u001b[0m             \u001b[0mself\u001b[0m\u001b[1;33m.\u001b[0m\u001b[0m_add_nec_args\u001b[0m\u001b[1;33m(\u001b[0m\u001b[0mself\u001b[0m\u001b[1;33m.\u001b[0m\u001b[0mpayload\u001b[0m\u001b[1;33m)\u001b[0m\u001b[1;33m\u001b[0m\u001b[1;33m\u001b[0m\u001b[0m\n\u001b[0;32m    214\u001b[0m \u001b[1;33m\u001b[0m\u001b[0m\n\u001b[1;32m--> 215\u001b[1;33m             \u001b[0mdata\u001b[0m \u001b[1;33m=\u001b[0m \u001b[0mself\u001b[0m\u001b[1;33m.\u001b[0m\u001b[0m_get\u001b[0m\u001b[1;33m(\u001b[0m\u001b[0murl\u001b[0m\u001b[1;33m,\u001b[0m \u001b[0mself\u001b[0m\u001b[1;33m.\u001b[0m\u001b[0mpayload\u001b[0m\u001b[1;33m)\u001b[0m\u001b[1;33m\u001b[0m\u001b[1;33m\u001b[0m\u001b[0m\n\u001b[0m\u001b[0;32m    216\u001b[0m             \u001b[1;32myield\u001b[0m \u001b[0mdata\u001b[0m\u001b[1;33m\u001b[0m\u001b[1;33m\u001b[0m\u001b[0m\n\u001b[0;32m    217\u001b[0m             \u001b[1;32mif\u001b[0m \u001b[0mlimit\u001b[0m \u001b[1;32mis\u001b[0m \u001b[1;32mnot\u001b[0m \u001b[1;32mNone\u001b[0m\u001b[1;33m:\u001b[0m\u001b[1;33m\u001b[0m\u001b[1;33m\u001b[0m\u001b[0m\n",
      "\u001b[1;32m~\\anaconda3\\envs\\rstudio\\lib\\site-packages\\psaw\\PushshiftAPI.py\u001b[0m in \u001b[0;36m_get\u001b[1;34m(self, url, payload)\u001b[0m\n\u001b[0;32m    192\u001b[0m                 \u001b[0mwarnings\u001b[0m\u001b[1;33m.\u001b[0m\u001b[0mwarn\u001b[0m\u001b[1;33m(\u001b[0m\u001b[1;34m\"Got non 200 code %s\"\u001b[0m \u001b[1;33m%\u001b[0m \u001b[0mresponse\u001b[0m\u001b[1;33m.\u001b[0m\u001b[0mstatus_code\u001b[0m\u001b[1;33m)\u001b[0m\u001b[1;33m\u001b[0m\u001b[1;33m\u001b[0m\u001b[0m\n\u001b[0;32m    193\u001b[0m         \u001b[1;32mif\u001b[0m \u001b[1;32mnot\u001b[0m \u001b[0msuccess\u001b[0m\u001b[1;33m:\u001b[0m\u001b[1;33m\u001b[0m\u001b[1;33m\u001b[0m\u001b[0m\n\u001b[1;32m--> 194\u001b[1;33m             \u001b[1;32mraise\u001b[0m \u001b[0mException\u001b[0m\u001b[1;33m(\u001b[0m\u001b[1;34m\"Unable to connect to pushshift.io. Max retries exceeded.\"\u001b[0m\u001b[1;33m)\u001b[0m\u001b[1;33m\u001b[0m\u001b[1;33m\u001b[0m\u001b[0m\n\u001b[0m\u001b[0;32m    195\u001b[0m         \u001b[1;32mreturn\u001b[0m \u001b[0mjson\u001b[0m\u001b[1;33m.\u001b[0m\u001b[0mloads\u001b[0m\u001b[1;33m(\u001b[0m\u001b[0mresponse\u001b[0m\u001b[1;33m.\u001b[0m\u001b[0mtext\u001b[0m\u001b[1;33m)\u001b[0m\u001b[1;33m\u001b[0m\u001b[1;33m\u001b[0m\u001b[0m\n\u001b[0;32m    196\u001b[0m \u001b[1;33m\u001b[0m\u001b[0m\n",
      "\u001b[1;31mException\u001b[0m: Unable to connect to pushshift.io. Max retries exceeded."
     ]
    }
   ],
   "source": [
    "postings = psaw_pushshift.search_submissions(subreddit=subreddit_name, limit=1000, before=initial_time)\n",
    "# postings = psaw_pushshift.search_submissions(subreddit=subreddit_name, limit=1000, before=initial_time, max_sleep = 180)\n",
    "df = pd.DataFrame(postings)"
   ]
  },
  {
   "cell_type": "code",
   "execution_count": null,
   "id": "0d98b4a8",
   "metadata": {},
   "outputs": [],
   "source": [
    "df_data = []  # Se ha de crear antes de convertirlo a un dataframe de pandas.\n",
    "\n",
    "for id in df[0]:\n",
    "    one_submission = reddit.submission(id=id)\n",
    "    if one_submission.num_comments >= 5:\n",
    "        if one_submission.upvote_ratio <= 0.70:\n",
    "            print(id, one_submission.title, one_submission.author, one_submission.created_utc, one_submission.score, one_submission.upvote_ratio, one_submission.num_comments, one_submission.selftext, one_submission.comments)\n",
    "            df_data.append([id, one_submission.title, one_submission.author, one_submission.created_utc, one_submission.score, one_submission.upvote_ratio, one_submission.num_comments, one_submission.selftext, one_submission.comments])\n",
    "            "
   ]
  },
  {
   "cell_type": "code",
   "execution_count": null,
   "id": "18e2ed81",
   "metadata": {},
   "outputs": [],
   "source": [
    "df_data = pd.DataFrame(df_data, columns = ['id', 'title', 'author', 'created_utc', 'score', 'upvote_ratio', 'num_comments', 'selftext', 'comments'])"
   ]
  },
  {
   "cell_type": "code",
   "execution_count": null,
   "id": "5128487b",
   "metadata": {},
   "outputs": [],
   "source": [
    "df_data"
   ]
  },
  {
   "cell_type": "code",
   "execution_count": null,
   "id": "d28f847c",
   "metadata": {},
   "outputs": [],
   "source": [
    "df.to_csv(r'.\\7_IDs_PSAW-pushshift_controversial_batch_7000_7999.csv')"
   ]
  },
  {
   "cell_type": "code",
   "execution_count": null,
   "id": "f2bade46",
   "metadata": {},
   "outputs": [],
   "source": []
  },
  {
   "cell_type": "code",
   "execution_count": null,
   "id": "7581c895",
   "metadata": {},
   "outputs": [],
   "source": [
    "sys.setrecursionlimit(2500)   # Parece no funcionar, si no.\n",
    "\n",
    "\n",
    "#df_data.to_json(r'.\\Sample_output_batch_0_2.json')\n",
    "\n",
    "df_data.to_json(r'.\\7_Posts_PSAW-PRAW_controversial_batch_7000_7999.json', default_handler=str)  # Without default handler, does not work.\n",
    "\n",
    "# Perhaps reduce size of batch so comment forests can be handled."
   ]
  },
  {
   "cell_type": "code",
   "execution_count": null,
   "id": "9ef59dba",
   "metadata": {},
   "outputs": [],
   "source": [
    "df_data.to_csv(r'.\\7_PSAW-PRAW_controversial_batch_7000_7999.csv')"
   ]
  },
  {
   "cell_type": "code",
   "execution_count": null,
   "id": "6f3a07ac",
   "metadata": {},
   "outputs": [],
   "source": [
    "df_data[\"created_utc\"][305]"
   ]
  },
  {
   "cell_type": "code",
   "execution_count": null,
   "id": "91f88569",
   "metadata": {},
   "outputs": [],
   "source": [
    "# Original start time: 1656527400, Wed Jun 29 2022 20:30:00 GMT+0200 (Central European Summer Time)\n",
    "# Batch 0: 333 postings. Final (earliest) timestamp: 1652671642.0\n",
    "# Batch 1: 307 postings. Final timestamp: 1648321526\n",
    "# Batch 2: 242 postings. Final timestamp: 1644503444\n",
    "# Batch 3: 236 postings. Final timestamp: 1640967878\n",
    "# Batch 4: 256 postings. Final timestamp: 1637526780\n",
    "# Batch 5: 199 postings. Final timestamp: 1634462045\n",
    "# Batch 6: 305 postings. Final timestamp: 1631377026\n",
    "# Batch 7: \n"
   ]
  },
  {
   "cell_type": "code",
   "execution_count": null,
   "id": "8fa35d48",
   "metadata": {},
   "outputs": [],
   "source": []
  }
 ],
 "metadata": {
  "kernelspec": {
   "display_name": "Python 3 (ipykernel)",
   "language": "python",
   "name": "python3"
  },
  "language_info": {
   "codemirror_mode": {
    "name": "ipython",
    "version": 3
   },
   "file_extension": ".py",
   "mimetype": "text/x-python",
   "name": "python",
   "nbconvert_exporter": "python",
   "pygments_lexer": "ipython3",
   "version": "3.7.1"
  }
 },
 "nbformat": 4,
 "nbformat_minor": 5
}
